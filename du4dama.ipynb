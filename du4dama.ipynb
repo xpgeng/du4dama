{
 "cells": [
  {
   "cell_type": "code",
   "execution_count": 1,
   "metadata": {
    "collapsed": true
   },
   "outputs": [],
   "source": [
    "# coding: utf-8\n",
    "\n",
    "import codecs\n",
    "from collections import defaultdict\n",
    "from pprint import pprint\n",
    "\n",
    "from github import Github\n",
    "from constant import username, password"
   ]
  },
  {
   "cell_type": "code",
   "execution_count": 2,
   "metadata": {
    "collapsed": true
   },
   "outputs": [],
   "source": [
    "# Create repo\n",
    "g = Github(username, password, timeout=50)\n",
    "org = g.get_organization('DebugUself')\n",
    "repo = org.get_repo('du4proto')"
   ]
  },
  {
   "cell_type": "code",
   "execution_count": null,
   "metadata": {
    "collapsed": true
   },
   "outputs": [],
   "source": [
    "# Get DAMA's all comments from issue\n",
    "f = codecs.open('dama_issue_comments.md', 'aw', encoding='utf8')"
   ]
  },
  {
   "cell_type": "code",
   "execution_count": 36,
   "metadata": {
    "collapsed": false
   },
   "outputs": [],
   "source": [
    "for issue in repo.get_issues():\n",
    "    for comment in issue.get_comments():\n",
    "        if comment.user.login == 'ZoomQuiet':\n",
    "            content = u'''\n",
    "## Date: {date}\n",
    "\n",
    "{user} commented on **{issue}**:\n",
    "\n",
    "{comment}\n",
    "            \n",
    "<{url}>\n",
    "\n",
    "--------------\n",
    "'''.format(user=u'ZoomQuiet', comment=comment.body,\n",
    "                       issue=issue.title, url=comment.html_url,\n",
    "                      date=comment.created_at)\n",
    "            f.write(content)\n",
    "f.close()"
   ]
  },
  {
   "cell_type": "code",
   "execution_count": 71,
   "metadata": {
    "collapsed": true
   },
   "outputs": [],
   "source": [
    "# Get DAMA commit comments\n",
    "f_commit = codecs.open('dama_commit_comments.md', 'aw', encoding='utf8')"
   ]
  },
  {
   "cell_type": "code",
   "execution_count": 72,
   "metadata": {
    "collapsed": false
   },
   "outputs": [],
   "source": [
    "for commit in repo.get_commits():\n",
    "    for comment in commit.get_comments():\n",
    "        if comment.user.login == 'ZoomQuiet':\n",
    "            content = u'''\n",
    "## Date: {date}\n",
    "\n",
    "{user} commented on {commit_id} of {commit_user}:\n",
    "\n",
    "{comment}\n",
    "\n",
    "<{url}>\n",
    "\n",
    "---\n",
    "\n",
    "'''.format(user=u'ZoomQuiet', commit_id=commit.sha[:6], date=comment.created_at,\n",
    "           url=comment.html_url, commit_user=commit.author.login, comment=comment.body)\n",
    "            f_commit.write(content)"
   ]
  },
  {
   "cell_type": "markdown",
   "metadata": {},
   "source": [
    "## 仓库的各项数据统计"
   ]
  },
  {
   "cell_type": "code",
   "execution_count": 93,
   "metadata": {
    "collapsed": true
   },
   "outputs": [],
   "source": [
    "# comments statistic\n",
    "comment_dict = defaultdict(int)"
   ]
  },
  {
   "cell_type": "code",
   "execution_count": 91,
   "metadata": {
    "collapsed": true
   },
   "outputs": [],
   "source": [
    "user = None"
   ]
  },
  {
   "cell_type": "code",
   "execution_count": 96,
   "metadata": {
    "collapsed": false
   },
   "outputs": [
    {
     "name": "stdout",
     "output_type": "stream",
     "text": [
      "defaultdict(<type 'int'>, {u'juthy1': 3, u'Zxlon': 4, u'13416136446': 1, u'YCR007': 1, u'ZoomQuiet': 19, u'zhangshiyinrunwithcc': 4, u'simpleowen': 3, u'bambooom': 1, u'xpgeng': 1, u'EattheSun': 1, u'mxclover': 1, u'stonemask': 1, u'hstaoqian': 1, u'livingworld': 1, u'NBR-hugh': 4})\n"
     ]
    }
   ],
   "source": [
    "for issue in repo.get_issues():\n",
    "    for comment in issue.get_comments():\n",
    "        user = comment.user.login\n",
    "        if user in comment_dict:\n",
    "            comment_dict[user] += 1\n",
    "        else:\n",
    "            comment_dict[user] = 1\n",
    "pprint(comment_dict) "
   ]
  },
  {
   "cell_type": "code",
   "execution_count": 97,
   "metadata": {
    "collapsed": false
   },
   "outputs": [
    {
     "name": "stdout",
     "output_type": "stream",
     "text": [
      "defaultdict(<type 'int'>, {u'juthy1': 3, u'Zxlon': 4, u'13416136446': 1, u'YCR007': 1, u'ZoomQuiet': 49, u'zhangshiyinrunwithcc': 14, u'zoejane': 5, u'simpleowen': 3, u'bambooom': 5, u'xpgeng': 7, u'EattheSun': 9, u'mxclover': 1, u'stonemask': 1, u'hstaoqian': 1, u'livingworld': 1, u'sunoonlee': 5, u'NBR-hugh': 5})\n"
     ]
    }
   ],
   "source": [
    "for commit in repo.get_commits():\n",
    "    for comment in commit.get_comments():\n",
    "        user = comment.user.login\n",
    "        if user in comment_dict:\n",
    "            comment_dict[user] += 1\n",
    "        else:\n",
    "            comment_dict[user] = 1\n",
    "pprint(comment_dict) "
   ]
  },
  {
   "cell_type": "code",
   "execution_count": 103,
   "metadata": {
    "collapsed": false
   },
   "outputs": [],
   "source": [
    "sort_dict = sorted(comment_dict, key=comment_dict.get, reverse=True)"
   ]
  },
  {
   "cell_type": "code",
   "execution_count": 105,
   "metadata": {
    "collapsed": false,
    "scrolled": true
   },
   "outputs": [
    {
     "name": "stdout",
     "output_type": "stream",
     "text": [
      "- ZoomQuiet -> 49\n",
      "- zhangshiyinrunwithcc -> 14\n",
      "- EattheSun -> 9\n",
      "- xpgeng -> 7\n",
      "- zoejane -> 5\n",
      "- bambooom -> 5\n",
      "- sunoonlee -> 5\n",
      "- NBR-hugh -> 5\n",
      "- Zxlon -> 4\n",
      "- juthy1 -> 3\n",
      "- simpleowen -> 3\n",
      "- 13416136446 -> 1\n",
      "- YCR007 -> 1\n",
      "- mxclover -> 1\n",
      "- stonemask -> 1\n",
      "- hstaoqian -> 1\n",
      "- livingworld -> 1\n"
     ]
    }
   ],
   "source": [
    "for i  in sort_dict:\n",
    "    print '-', '%s -> %s' %(i, comment_dict[i])"
   ]
  },
  {
   "cell_type": "code",
   "execution_count": 110,
   "metadata": {
    "collapsed": true
   },
   "outputs": [],
   "source": [
    "commit_dict = defaultdict(int)"
   ]
  },
  {
   "cell_type": "code",
   "execution_count": 111,
   "metadata": {
    "collapsed": false
   },
   "outputs": [
    {
     "name": "stdout",
     "output_type": "stream",
     "text": [
      "defaultdict(<type 'int'>, {u'xpgeng': 10, u'Zxlon': 9, u'sunoonlee': 5, u'shi1234': 3, u'livingworld': 3, u'simpleowen': 5, u'zhangshiyinrunwithcc': 9, u'17days': 2, u'ZoomQuiet': 5, u'yanzhiw': 3, u'juthy1': 4, u'bambooom': 9, u'OMlalala': 1, u'EattheSun': 3, u'gzMichael': 3, u'mxclover': 1, u'fatfox2016': 4, u'NBR-hugh': 15, u'zoejane': 6, u'hstaoqian': 1, u'YCR007': 2})\n"
     ]
    }
   ],
   "source": [
    "for commit in repo.get_commits():\n",
    "    user = commit.author.login\n",
    "    if user in commit_dict:\n",
    "        commit_dict[user] += 1\n",
    "    else:\n",
    "        commit_dict[user] = 1\n",
    "pprint(commit_dict)"
   ]
  },
  {
   "cell_type": "code",
   "execution_count": 112,
   "metadata": {
    "collapsed": true
   },
   "outputs": [],
   "source": [
    "sorted_commit = sorted(commit_dict, key=commit_dict.get, reverse=True)"
   ]
  },
  {
   "cell_type": "code",
   "execution_count": 113,
   "metadata": {
    "collapsed": false
   },
   "outputs": [
    {
     "name": "stdout",
     "output_type": "stream",
     "text": [
      "- NBR-hugh -> 15\n",
      "- xpgeng -> 10\n",
      "- Zxlon -> 9\n",
      "- zhangshiyinrunwithcc -> 9\n",
      "- bambooom -> 9\n",
      "- zoejane -> 6\n",
      "- sunoonlee -> 5\n",
      "- simpleowen -> 5\n",
      "- ZoomQuiet -> 5\n",
      "- juthy1 -> 4\n",
      "- fatfox2016 -> 4\n",
      "- shi1234 -> 3\n",
      "- livingworld -> 3\n",
      "- yanzhiw -> 3\n",
      "- EattheSun -> 3\n",
      "- gzMichael -> 3\n",
      "- 17days -> 2\n",
      "- YCR007 -> 2\n",
      "- OMlalala -> 1\n",
      "- mxclover -> 1\n",
      "- hstaoqian -> 1\n"
     ]
    }
   ],
   "source": [
    "for i in sorted_commit:\n",
    "    print '-', '%s -> %s' %(i, commit_dict[i])"
   ]
  },
  {
   "cell_type": "code",
   "execution_count": 114,
   "metadata": {
    "collapsed": false
   },
   "outputs": [
    {
     "data": {
      "text/plain": [
       "21"
      ]
     },
     "execution_count": 114,
     "metadata": {},
     "output_type": "execute_result"
    }
   ],
   "source": [
    "len(commit_dict)"
   ]
  },
  {
   "cell_type": "code",
   "execution_count": 115,
   "metadata": {
    "collapsed": false
   },
   "outputs": [
    {
     "data": {
      "text/plain": [
       "17"
      ]
     },
     "execution_count": 115,
     "metadata": {},
     "output_type": "execute_result"
    }
   ],
   "source": [
    "len(comment_dict)"
   ]
  },
  {
   "cell_type": "code",
   "execution_count": 116,
   "metadata": {
    "collapsed": true
   },
   "outputs": [],
   "source": [
    "commit_lines_dict = defaultdict(int)"
   ]
  },
  {
   "cell_type": "code",
   "execution_count": 123,
   "metadata": {
    "collapsed": false
   },
   "outputs": [
    {
     "ename": "TypeError",
     "evalue": "pprint() got an unexpected keyword argument 'commit_lines_dict'",
     "output_type": "error",
     "traceback": [
      "\u001b[0;31m---------------------------------------------------------------------------\u001b[0m",
      "\u001b[0;31mTypeError\u001b[0m                                 Traceback (most recent call last)",
      "\u001b[0;32m<ipython-input-123-276300c6aa34>\u001b[0m in \u001b[0;36m<module>\u001b[0;34m()\u001b[0m\n\u001b[1;32m      6\u001b[0m     \u001b[0;32melse\u001b[0m\u001b[0;34m:\u001b[0m\u001b[0;34m\u001b[0m\u001b[0m\n\u001b[1;32m      7\u001b[0m         \u001b[0mcommit_lines_dict\u001b[0m\u001b[0;34m[\u001b[0m\u001b[0muser\u001b[0m\u001b[0;34m]\u001b[0m \u001b[0;34m=\u001b[0m \u001b[0mcommit\u001b[0m\u001b[0;34m.\u001b[0m\u001b[0mstats\u001b[0m\u001b[0;34m.\u001b[0m\u001b[0mtotal\u001b[0m\u001b[0;34m\u001b[0m\u001b[0m\n\u001b[0;32m----> 8\u001b[0;31m \u001b[0mpprint\u001b[0m\u001b[0;34m(\u001b[0m\u001b[0mcommit_lines_dict\u001b[0m \u001b[0;34m=\u001b[0m \u001b[0mdefaultdict\u001b[0m\u001b[0;34m(\u001b[0m\u001b[0mint\u001b[0m\u001b[0;34m)\u001b[0m\u001b[0;34m)\u001b[0m\u001b[0;34m\u001b[0m\u001b[0m\n\u001b[0m",
      "\u001b[0;31mTypeError\u001b[0m: pprint() got an unexpected keyword argument 'commit_lines_dict'"
     ]
    }
   ],
   "source": [
    "i = 0\n",
    "for commit in repo.get_commits():\n",
    "    user = commit.author.login\n",
    "    if user in commit_dict:\n",
    "        commit_lines_dict[user] += commit.stats.total\n",
    "    else:\n",
    "        commit_lines_dict[user] = commit.stats.total\n",
    "pprint(commit_lines_dict = defaultdict(int))"
   ]
  },
  {
   "cell_type": "code",
   "execution_count": 124,
   "metadata": {
    "collapsed": false
   },
   "outputs": [
    {
     "data": {
      "text/plain": [
       "defaultdict(int,\n",
       "            {u'17days': 107,\n",
       "             u'EattheSun': 184,\n",
       "             u'NBR-hugh': 1091,\n",
       "             u'OMlalala': 12,\n",
       "             u'YCR007': 108,\n",
       "             u'ZoomQuiet': 222,\n",
       "             u'Zxlon': 497,\n",
       "             u'bambooom': 311,\n",
       "             u'fatfox2016': 122,\n",
       "             u'gzMichael': 96,\n",
       "             u'hstaoqian': 47,\n",
       "             u'juthy1': 350,\n",
       "             u'livingworld': 275,\n",
       "             u'mxclover': 27,\n",
       "             u'shi1234': 320,\n",
       "             u'simpleowen': 523,\n",
       "             u'sunoonlee': 224,\n",
       "             u'xpgeng': 648,\n",
       "             u'yanzhiw': 110,\n",
       "             u'zhangshiyinrunwithcc': 458,\n",
       "             u'zoejane': 280})"
      ]
     },
     "execution_count": 124,
     "metadata": {},
     "output_type": "execute_result"
    }
   ],
   "source": [
    "commit_lines_dict"
   ]
  },
  {
   "cell_type": "code",
   "execution_count": 125,
   "metadata": {
    "collapsed": true
   },
   "outputs": [],
   "source": [
    "sorted_commit = sorted(commit_lines_dict, key=commit_lines_dict.get, reverse=True)"
   ]
  },
  {
   "cell_type": "code",
   "execution_count": 126,
   "metadata": {
    "collapsed": false
   },
   "outputs": [
    {
     "name": "stdout",
     "output_type": "stream",
     "text": [
      "- NBR-hugh -> 1091\n",
      "- xpgeng -> 648\n",
      "- simpleowen -> 523\n",
      "- Zxlon -> 497\n",
      "- zhangshiyinrunwithcc -> 458\n",
      "- juthy1 -> 350\n",
      "- shi1234 -> 320\n",
      "- bambooom -> 311\n",
      "- zoejane -> 280\n",
      "- livingworld -> 275\n",
      "- sunoonlee -> 224\n",
      "- ZoomQuiet -> 222\n",
      "- EattheSun -> 184\n",
      "- fatfox2016 -> 122\n",
      "- yanzhiw -> 110\n",
      "- YCR007 -> 108\n",
      "- 17days -> 107\n",
      "- gzMichael -> 96\n",
      "- hstaoqian -> 47\n",
      "- mxclover -> 27\n",
      "- OMlalala -> 12\n"
     ]
    }
   ],
   "source": [
    "for i in sorted_commit:\n",
    "    print '-', '%s -> %s' %(i, commit_lines_dict[i])"
   ]
  },
  {
   "cell_type": "code",
   "execution_count": null,
   "metadata": {
    "collapsed": true
   },
   "outputs": [],
   "source": []
  }
 ],
 "metadata": {
  "anaconda-cloud": {},
  "kernelspec": {
   "display_name": "Python [default]",
   "language": "python",
   "name": "python2"
  },
  "language_info": {
   "codemirror_mode": {
    "name": "ipython",
    "version": 2
   },
   "file_extension": ".py",
   "mimetype": "text/x-python",
   "name": "python",
   "nbconvert_exporter": "python",
   "pygments_lexer": "ipython2",
   "version": "2.7.12"
  }
 },
 "nbformat": 4,
 "nbformat_minor": 1
}
